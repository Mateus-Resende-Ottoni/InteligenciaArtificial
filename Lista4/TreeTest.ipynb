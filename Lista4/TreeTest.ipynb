{
 "cells": [
  {
   "cell_type": "markdown",
   "id": "8f3bdf4e",
   "metadata": {},
   "source": [
    "# Imports"
   ]
  },
  {
   "cell_type": "code",
   "execution_count": 1,
   "id": "59ad2867",
   "metadata": {},
   "outputs": [],
   "source": [
    "import pandas as pd\n",
    "\n",
    "from sklearn.model_selection import train_test_split\n",
    "\n",
    "import math\n",
    "from collections import Counter\n",
    "\n",
    "# Import em download\n",
    "import decision_tree_matott as tree\n",
    "from decision_tree_matott.tree import ID3\n",
    "from decision_tree_matott.tree import C45\n",
    "from decision_tree_matott.tree import CART\n",
    "\n",
    "# Import local\n",
    "#import tree"
   ]
  },
  {
   "cell_type": "markdown",
   "id": "5007c103",
   "metadata": {},
   "source": [
    "# Preparação dos dados"
   ]
  },
  {
   "cell_type": "markdown",
   "id": "6d2dd4f5",
   "metadata": {},
   "source": [
    "## Base de dados"
   ]
  },
  {
   "cell_type": "code",
   "execution_count": 2,
   "id": "4f139256",
   "metadata": {},
   "outputs": [],
   "source": [
    "# Leitura e foramtação dos dados\n",
    "dados = pd.read_csv('Data/titanic.csv', sep=';', na_values=[\"\", \" \", \"NA\", \"N/A\"])"
   ]
  },
  {
   "cell_type": "code",
   "execution_count": 3,
   "id": "ee7ff1cb",
   "metadata": {},
   "outputs": [],
   "source": [
    "dados = dados['PassengerId,Survived,Pclass,Name,Sex,Age,SibSp,Parch,Ticket,Fare,Cabin,Embarked'].str.split(',', expand=True)\n",
    "dados.columns = ['PassengerId', 'Survived', 'Pclass', 'Surname', 'Name', 'Sex', 'Age', 'SibSp', 'Parch', 'Ticket', 'Fare', 'Cabin', 'Embarked']"
   ]
  },
  {
   "cell_type": "code",
   "execution_count": 4,
   "id": "18c75382",
   "metadata": {},
   "outputs": [],
   "source": [
    "dados_base = pd.DataFrame(dados)"
   ]
  },
  {
   "cell_type": "code",
   "execution_count": 5,
   "id": "01238399",
   "metadata": {},
   "outputs": [
    {
     "data": {
      "text/html": [
       "<div>\n",
       "<style scoped>\n",
       "    .dataframe tbody tr th:only-of-type {\n",
       "        vertical-align: middle;\n",
       "    }\n",
       "\n",
       "    .dataframe tbody tr th {\n",
       "        vertical-align: top;\n",
       "    }\n",
       "\n",
       "    .dataframe thead th {\n",
       "        text-align: right;\n",
       "    }\n",
       "</style>\n",
       "<table border=\"1\" class=\"dataframe\">\n",
       "  <thead>\n",
       "    <tr style=\"text-align: right;\">\n",
       "      <th></th>\n",
       "      <th>PassengerId</th>\n",
       "      <th>Survived</th>\n",
       "      <th>Pclass</th>\n",
       "      <th>Surname</th>\n",
       "      <th>Name</th>\n",
       "      <th>Sex</th>\n",
       "      <th>Age</th>\n",
       "      <th>SibSp</th>\n",
       "      <th>Parch</th>\n",
       "      <th>Ticket</th>\n",
       "      <th>Fare</th>\n",
       "      <th>Cabin</th>\n",
       "      <th>Embarked</th>\n",
       "    </tr>\n",
       "  </thead>\n",
       "  <tbody>\n",
       "    <tr>\n",
       "      <th>0</th>\n",
       "      <td>1</td>\n",
       "      <td>0</td>\n",
       "      <td>3</td>\n",
       "      <td>\"Braund</td>\n",
       "      <td>Mr. Owen Harris\"</td>\n",
       "      <td>male</td>\n",
       "      <td>22</td>\n",
       "      <td>1</td>\n",
       "      <td>0</td>\n",
       "      <td>A/5 21171</td>\n",
       "      <td>7.25</td>\n",
       "      <td></td>\n",
       "      <td>S</td>\n",
       "    </tr>\n",
       "    <tr>\n",
       "      <th>1</th>\n",
       "      <td>2</td>\n",
       "      <td>1</td>\n",
       "      <td>1</td>\n",
       "      <td>\"Cumings</td>\n",
       "      <td>Mrs. John Bradley (Florence Briggs Thayer)\"</td>\n",
       "      <td>female</td>\n",
       "      <td>38</td>\n",
       "      <td>1</td>\n",
       "      <td>0</td>\n",
       "      <td>PC 17599</td>\n",
       "      <td>71.2833</td>\n",
       "      <td>C85</td>\n",
       "      <td>C</td>\n",
       "    </tr>\n",
       "    <tr>\n",
       "      <th>2</th>\n",
       "      <td>3</td>\n",
       "      <td>1</td>\n",
       "      <td>3</td>\n",
       "      <td>\"Heikkinen</td>\n",
       "      <td>Miss. Laina\"</td>\n",
       "      <td>female</td>\n",
       "      <td>26</td>\n",
       "      <td>0</td>\n",
       "      <td>0</td>\n",
       "      <td>STON/O2. 3101282</td>\n",
       "      <td>7.925</td>\n",
       "      <td></td>\n",
       "      <td>S</td>\n",
       "    </tr>\n",
       "    <tr>\n",
       "      <th>3</th>\n",
       "      <td>4</td>\n",
       "      <td>1</td>\n",
       "      <td>1</td>\n",
       "      <td>\"Futrelle</td>\n",
       "      <td>Mrs. Jacques Heath (Lily May Peel)\"</td>\n",
       "      <td>female</td>\n",
       "      <td>35</td>\n",
       "      <td>1</td>\n",
       "      <td>0</td>\n",
       "      <td>113803</td>\n",
       "      <td>53.1</td>\n",
       "      <td>C123</td>\n",
       "      <td>S</td>\n",
       "    </tr>\n",
       "    <tr>\n",
       "      <th>4</th>\n",
       "      <td>5</td>\n",
       "      <td>0</td>\n",
       "      <td>3</td>\n",
       "      <td>\"Allen</td>\n",
       "      <td>Mr. William Henry\"</td>\n",
       "      <td>male</td>\n",
       "      <td>35</td>\n",
       "      <td>0</td>\n",
       "      <td>0</td>\n",
       "      <td>373450</td>\n",
       "      <td>8.05</td>\n",
       "      <td></td>\n",
       "      <td>S</td>\n",
       "    </tr>\n",
       "    <tr>\n",
       "      <th>...</th>\n",
       "      <td>...</td>\n",
       "      <td>...</td>\n",
       "      <td>...</td>\n",
       "      <td>...</td>\n",
       "      <td>...</td>\n",
       "      <td>...</td>\n",
       "      <td>...</td>\n",
       "      <td>...</td>\n",
       "      <td>...</td>\n",
       "      <td>...</td>\n",
       "      <td>...</td>\n",
       "      <td>...</td>\n",
       "      <td>...</td>\n",
       "    </tr>\n",
       "    <tr>\n",
       "      <th>886</th>\n",
       "      <td>887</td>\n",
       "      <td>0</td>\n",
       "      <td>2</td>\n",
       "      <td>\"Montvila</td>\n",
       "      <td>Rev. Juozas\"</td>\n",
       "      <td>male</td>\n",
       "      <td>27</td>\n",
       "      <td>0</td>\n",
       "      <td>0</td>\n",
       "      <td>211536</td>\n",
       "      <td>13</td>\n",
       "      <td></td>\n",
       "      <td>S</td>\n",
       "    </tr>\n",
       "    <tr>\n",
       "      <th>887</th>\n",
       "      <td>888</td>\n",
       "      <td>1</td>\n",
       "      <td>1</td>\n",
       "      <td>\"Graham</td>\n",
       "      <td>Miss. Margaret Edith\"</td>\n",
       "      <td>female</td>\n",
       "      <td>19</td>\n",
       "      <td>0</td>\n",
       "      <td>0</td>\n",
       "      <td>112053</td>\n",
       "      <td>30</td>\n",
       "      <td>B42</td>\n",
       "      <td>S</td>\n",
       "    </tr>\n",
       "    <tr>\n",
       "      <th>888</th>\n",
       "      <td>889</td>\n",
       "      <td>0</td>\n",
       "      <td>3</td>\n",
       "      <td>\"Johnston</td>\n",
       "      <td>Miss. Catherine Helen \"\"Carrie\"\"\"</td>\n",
       "      <td>female</td>\n",
       "      <td></td>\n",
       "      <td>1</td>\n",
       "      <td>2</td>\n",
       "      <td>W./C. 6607</td>\n",
       "      <td>23.45</td>\n",
       "      <td></td>\n",
       "      <td>S</td>\n",
       "    </tr>\n",
       "    <tr>\n",
       "      <th>889</th>\n",
       "      <td>890</td>\n",
       "      <td>1</td>\n",
       "      <td>1</td>\n",
       "      <td>\"Behr</td>\n",
       "      <td>Mr. Karl Howell\"</td>\n",
       "      <td>male</td>\n",
       "      <td>26</td>\n",
       "      <td>0</td>\n",
       "      <td>0</td>\n",
       "      <td>111369</td>\n",
       "      <td>30</td>\n",
       "      <td>C148</td>\n",
       "      <td>C</td>\n",
       "    </tr>\n",
       "    <tr>\n",
       "      <th>890</th>\n",
       "      <td>891</td>\n",
       "      <td>0</td>\n",
       "      <td>3</td>\n",
       "      <td>\"Dooley</td>\n",
       "      <td>Mr. Patrick\"</td>\n",
       "      <td>male</td>\n",
       "      <td>32</td>\n",
       "      <td>0</td>\n",
       "      <td>0</td>\n",
       "      <td>370376</td>\n",
       "      <td>7.75</td>\n",
       "      <td></td>\n",
       "      <td>Q</td>\n",
       "    </tr>\n",
       "  </tbody>\n",
       "</table>\n",
       "<p>891 rows × 13 columns</p>\n",
       "</div>"
      ],
      "text/plain": [
       "    PassengerId Survived Pclass     Surname  \\\n",
       "0             1        0      3     \"Braund   \n",
       "1             2        1      1    \"Cumings   \n",
       "2             3        1      3  \"Heikkinen   \n",
       "3             4        1      1   \"Futrelle   \n",
       "4             5        0      3      \"Allen   \n",
       "..          ...      ...    ...         ...   \n",
       "886         887        0      2   \"Montvila   \n",
       "887         888        1      1     \"Graham   \n",
       "888         889        0      3   \"Johnston   \n",
       "889         890        1      1       \"Behr   \n",
       "890         891        0      3     \"Dooley   \n",
       "\n",
       "                                             Name     Sex Age SibSp Parch  \\\n",
       "0                                Mr. Owen Harris\"    male  22     1     0   \n",
       "1     Mrs. John Bradley (Florence Briggs Thayer)\"  female  38     1     0   \n",
       "2                                    Miss. Laina\"  female  26     0     0   \n",
       "3             Mrs. Jacques Heath (Lily May Peel)\"  female  35     1     0   \n",
       "4                              Mr. William Henry\"    male  35     0     0   \n",
       "..                                            ...     ...  ..   ...   ...   \n",
       "886                                  Rev. Juozas\"    male  27     0     0   \n",
       "887                         Miss. Margaret Edith\"  female  19     0     0   \n",
       "888             Miss. Catherine Helen \"\"Carrie\"\"\"  female         1     2   \n",
       "889                              Mr. Karl Howell\"    male  26     0     0   \n",
       "890                                  Mr. Patrick\"    male  32     0     0   \n",
       "\n",
       "               Ticket     Fare Cabin Embarked  \n",
       "0           A/5 21171     7.25              S  \n",
       "1            PC 17599  71.2833   C85        C  \n",
       "2    STON/O2. 3101282    7.925              S  \n",
       "3              113803     53.1  C123        S  \n",
       "4              373450     8.05              S  \n",
       "..                ...      ...   ...      ...  \n",
       "886            211536       13              S  \n",
       "887            112053       30   B42        S  \n",
       "888        W./C. 6607    23.45              S  \n",
       "889            111369       30  C148        C  \n",
       "890            370376     7.75              Q  \n",
       "\n",
       "[891 rows x 13 columns]"
      ]
     },
     "execution_count": 5,
     "metadata": {},
     "output_type": "execute_result"
    }
   ],
   "source": [
    "dados_base"
   ]
  },
  {
   "cell_type": "markdown",
   "id": "e24c5072",
   "metadata": {},
   "source": [
    "## Atributos irrelevantes"
   ]
  },
  {
   "cell_type": "code",
   "execution_count": 6,
   "id": "97f9a335",
   "metadata": {},
   "outputs": [],
   "source": [
    "# PassengerId é condizente com a própria numeração na tabela e único a cada um\n",
    "dados_base = dados_base.drop(columns=['PassengerId'])\n",
    "# Nome é um atributo sempre único e sem impacto na sobrevivência do passageiro\n",
    "dados_base = dados_base.drop(columns=['Surname', 'Name'])\n",
    "# Ticket é provavelmente irrelevante (supondo que não reflete fatores como localização no navio e outros)\n",
    "dados_base = dados_base.drop(columns=['Ticket'])\n",
    "# Cabine pode ser relevante, mas tem uma taxa de 77% dos dados nulos, sendo então impreciso para a análise\n",
    "dados_base = dados_base.drop(columns=['Cabin'])"
   ]
  },
  {
   "cell_type": "markdown",
   "id": "ad1f9d3a",
   "metadata": {},
   "source": [
    "## Tratamento de dados nulos"
   ]
  },
  {
   "cell_type": "code",
   "execution_count": 7,
   "id": "c2b2460c",
   "metadata": {},
   "outputs": [],
   "source": [
    "# Obter moda e inserir no lugar\n",
    "for column in dados_base.columns:\n",
    "    grupo = dados_base[column]\n",
    "\n",
    "    # Determinar moda\n",
    "    moda = Counter(grupo).most_common(1)[0][0]\n",
    "    # Para evitar se moda for valor nulo\n",
    "    if not moda:\n",
    "        moda = Counter(grupo).most_common(2)[1][0]\n",
    "\n",
    "    # Preencher dados vazios\n",
    "    dados_base[column] = dados_base[column].fillna(moda)\n",
    "    for linha in range(len(dados_base)):\n",
    "        if ( type(dados_base[column][linha]) == str ):\n",
    "            if not ( len(dados_base[column][linha]) > 0 ):\n",
    "                dados_base.loc[linha, column] = ( moda )\n",
    "        elif ( type(dados_base[column][linha]) == int ):\n",
    "            if not ( dados_base[column][linha] >= 0 ):\n",
    "                dados_base.loc[linha, column] = ( moda )\n",
    "        elif ( dados_base[column][linha] == None ):\n",
    "            dados_base.loc[linha, column] = ( moda )"
   ]
  },
  {
   "cell_type": "markdown",
   "id": "3508b2ef",
   "metadata": {},
   "source": [
    "## Dados numéricos"
   ]
  },
  {
   "cell_type": "code",
   "execution_count": 8,
   "id": "2b47b58a",
   "metadata": {},
   "outputs": [],
   "source": [
    "# Garantir que colunas de valor numérico estão salvas como valor float\n",
    "colunas_numericas = ['Pclass', 'Age', 'SibSp', 'Parch', 'Fare']\n",
    "for coluna in colunas_numericas:\n",
    "    for instancia in range(len(dados_base[coluna])):\n",
    "        dados_base.loc[instancia, coluna] = float(dados_base[coluna][instancia])"
   ]
  },
  {
   "cell_type": "markdown",
   "id": "d1550907",
   "metadata": {},
   "source": [
    "## Separação entre dados para cada algoritmo"
   ]
  },
  {
   "cell_type": "code",
   "execution_count": 9,
   "id": "6cd96652",
   "metadata": {},
   "outputs": [],
   "source": [
    "# ID3\n",
    "dados_id3 = dados_base.copy()\n",
    "# C4.5\n",
    "dados_c45 = dados_base.copy()\n",
    "# CART\n",
    "dados_cart = dados_base.copy()"
   ]
  },
  {
   "cell_type": "markdown",
   "id": "1b8b3a05",
   "metadata": {},
   "source": [
    "## Tratamento de dados contínuos"
   ]
  },
  {
   "cell_type": "code",
   "execution_count": 10,
   "id": "af8248d8",
   "metadata": {},
   "outputs": [],
   "source": [
    "colunas_continuas = ['Age', 'Fare']\n",
    "n_intervalos = 10\n",
    "# ID3\n",
    "# Obter intervalo dos valores e determinar a qual parte do intervalo o valor pertence\n",
    "for coluna in colunas_continuas:\n",
    "    min = float(dados_id3[coluna][0])\n",
    "    max = float(dados_id3[coluna][0])\n",
    "    for instancia in range(len(dados_id3[coluna])):\n",
    "        dados_id3.loc[instancia, coluna] = float(dados_id3[coluna][instancia])\n",
    "        if dados_id3[coluna][instancia] < min:\n",
    "            min = dados_id3[coluna][instancia]\n",
    "        elif dados_id3[coluna][instancia] > max:\n",
    "            max = dados_id3[coluna][instancia]\n",
    "    interval_range = (max-min)/n_intervalos\n",
    "    for instancia in range(len(dados_id3[coluna])):\n",
    "        dados_id3.loc[instancia, coluna] = math.ceil(dados_id3[coluna][instancia]/interval_range)\n",
    "# C4.5 e CART não precisam de tratamento de dados contínuos\n"
   ]
  },
  {
   "cell_type": "markdown",
   "id": "91c11825",
   "metadata": {},
   "source": [
    "# Partição treino/teste"
   ]
  },
  {
   "cell_type": "code",
   "execution_count": 11,
   "id": "cc5e6587",
   "metadata": {},
   "outputs": [],
   "source": [
    "# Separação de resultados\n",
    "result_column = 'Survived'\n",
    "# ID3\n",
    "dados_id3_atributos  = dados_id3.drop(columns=[result_column])  # Atributos\n",
    "dados_id3_resultados = dados_id3[result_column]                 # Conclusão\n",
    "# C4.5\n",
    "dados_c45_atributos  = dados_c45.drop(columns=[result_column])  # Atributos\n",
    "dados_c45_resultados = dados_c45[result_column]                 # Conclusão\n",
    "# CART\n",
    "dados_cart_atributos  = dados_cart.drop(columns=[result_column])  # Atributos\n",
    "dados_cart_resultados = dados_cart[result_column]                 # Conclusão\n",
    "\n",
    "# Separar dados em treino e teste\n",
    "test_sample = 0.20\n",
    "# ID3\n",
    "dados_id3_atributos_treino, dados_id3_atributos_teste, dados_id3_resultados_treino, dados_id3_resultados_teste = train_test_split(dados_id3_atributos, dados_id3_resultados, test_size = test_sample, random_state = 42)\n",
    "# C4.5\n",
    "dados_c45_atributos_treino, dados_c45_atributos_teste, dados_c45_resultados_treino, dados_c45_resultados_teste = train_test_split(dados_c45_atributos, dados_c45_resultados, test_size = test_sample, random_state = 42)\n",
    "# CART\n",
    "dados_cart_atributos_treino, dados_cart_atributos_teste, dados_cart_resultados_treino, dados_cart_resultados_teste = train_test_split(dados_cart_atributos, dados_cart_resultados, test_size = test_sample, random_state = 42)"
   ]
  },
  {
   "cell_type": "markdown",
   "id": "3b6f263a",
   "metadata": {},
   "source": [
    "# Montagem das árvores"
   ]
  },
  {
   "cell_type": "markdown",
   "id": "ec53bf9e",
   "metadata": {},
   "source": [
    "# Restrições"
   ]
  },
  {
   "cell_type": "code",
   "execution_count": 12,
   "id": "79beb01f",
   "metadata": {},
   "outputs": [],
   "source": [
    "altura_max = 10\n",
    "min_informatio_gain = 0.150\n",
    "min_gain_ratio      = 0.100\n",
    "min_gini            = 0.250"
   ]
  },
  {
   "cell_type": "markdown",
   "id": "ecab2884",
   "metadata": {},
   "source": [
    "# Montagem"
   ]
  },
  {
   "cell_type": "code",
   "execution_count": 13,
   "id": "f34441d0",
   "metadata": {},
   "outputs": [],
   "source": [
    "# A chamada das classes muda se o import de classe for local (prefixo de 'tree.')\n",
    "# ID3\n",
    "tree_id3 = ID3(max_height= altura_max, min_information= min_informatio_gain, results= dados_id3_resultados_treino)\n",
    "tree_id3.create_tree(data= dados_id3_atributos_treino, result= dados_id3_resultados_treino)\n",
    "# C4.5\n",
    "tree_c45 = C45(max_height= altura_max, min_information= min_gain_ratio, results= dados_c45_resultados_treino)\n",
    "tree_c45.create_tree(data= dados_c45_atributos_treino, result= dados_c45_resultados_treino)\n",
    "# CART\n",
    "tree_cart = CART(max_height= altura_max, min_information= min_gini, results= dados_cart_resultados_treino)\n",
    "tree_cart.create_tree(data= dados_cart_atributos_treino, result= dados_cart_resultados_treino)"
   ]
  },
  {
   "cell_type": "markdown",
   "id": "e27cd29c",
   "metadata": {},
   "source": [
    "# Resultados"
   ]
  },
  {
   "cell_type": "markdown",
   "id": "ee3e7cb7",
   "metadata": {},
   "source": [
    "## ID3"
   ]
  },
  {
   "cell_type": "markdown",
   "id": "f8be8e5d",
   "metadata": {},
   "source": [
    "### Árvore"
   ]
  },
  {
   "cell_type": "code",
   "execution_count": 14,
   "id": "de0507a9",
   "metadata": {},
   "outputs": [
    {
     "name": "stdout",
     "output_type": "stream",
     "text": [
      "0 - 0 (/'0' 444//'1' 268/) | Informacao: 0.21537571560753244 | Regra derivada: Sex\n"
     ]
    }
   ],
   "source": [
    "print(tree_id3.root)"
   ]
  },
  {
   "cell_type": "code",
   "execution_count": 15,
   "id": "ed7d065a",
   "metadata": {},
   "outputs": [
    {
     "name": "stdout",
     "output_type": "stream",
     "text": [
      "0 - 0 (/'0' 444//'1' 268/) | Informacao: 0.21537571560753244 | Regra derivada: Sex\n",
      "  {Sex==female}  1 - 1 (/'0' 64//'1' 181/) | Informacao: 0.23487005404128802 | Regra derivada: Pclass\n",
      "    {Pclass==1.0}  2 - 1 (/'1' 67//'0' 3/) | Informacao: 0.11887399721063424 | Regra derivada: (Final)\n",
      "    {Pclass==2.0}  2 - 1 (/'1' 58//'0' 2/) | Informacao: 0.04531556019707861 | Regra derivada: (Final)\n",
      "    {Pclass==3.0}  2 - 0 (/'0' 59//'1' 56/) | Informacao: 0.0845875396222503 | Regra derivada: (Final)\n",
      "  {Sex==male}  1 - 0 (/'0' 380//'1' 87/) | Informacao: 0.05532234115131962 | Regra derivada: (Final)\n"
     ]
    }
   ],
   "source": [
    "print(tree_id3.__str__())"
   ]
  },
  {
   "cell_type": "markdown",
   "id": "d4877328",
   "metadata": {},
   "source": [
    "### Teste"
   ]
  },
  {
   "cell_type": "code",
   "execution_count": 16,
   "id": "837128d9",
   "metadata": {},
   "outputs": [],
   "source": [
    "confusionMatrix_ID3 = tree_id3.test_tree(test_data= dados_id3_atributos_teste, test_results= dados_id3_resultados_teste)"
   ]
  },
  {
   "cell_type": "code",
   "execution_count": 17,
   "id": "0f2ac33e",
   "metadata": {},
   "outputs": [
    {
     "data": {
      "text/plain": [
       "179"
      ]
     },
     "execution_count": 17,
     "metadata": {},
     "output_type": "execute_result"
    }
   ],
   "source": [
    "len(dados_id3_atributos_teste)"
   ]
  },
  {
   "cell_type": "code",
   "execution_count": 18,
   "id": "76483180",
   "metadata": {},
   "outputs": [
    {
     "data": {
      "text/html": [
       "<div>\n",
       "<style scoped>\n",
       "    .dataframe tbody tr th:only-of-type {\n",
       "        vertical-align: middle;\n",
       "    }\n",
       "\n",
       "    .dataframe tbody tr th {\n",
       "        vertical-align: top;\n",
       "    }\n",
       "\n",
       "    .dataframe thead th {\n",
       "        text-align: right;\n",
       "    }\n",
       "</style>\n",
       "<table border=\"1\" class=\"dataframe\">\n",
       "  <thead>\n",
       "    <tr style=\"text-align: right;\">\n",
       "      <th></th>\n",
       "      <th>0</th>\n",
       "      <th>1</th>\n",
       "    </tr>\n",
       "  </thead>\n",
       "  <tbody>\n",
       "    <tr>\n",
       "      <th>0</th>\n",
       "      <td>101</td>\n",
       "      <td>4</td>\n",
       "    </tr>\n",
       "    <tr>\n",
       "      <th>1</th>\n",
       "      <td>38</td>\n",
       "      <td>36</td>\n",
       "    </tr>\n",
       "  </tbody>\n",
       "</table>\n",
       "</div>"
      ],
      "text/plain": [
       "     0   1\n",
       "0  101   4\n",
       "1   38  36"
      ]
     },
     "execution_count": 18,
     "metadata": {},
     "output_type": "execute_result"
    }
   ],
   "source": [
    "confusionMatrix_ID3"
   ]
  },
  {
   "cell_type": "markdown",
   "id": "5246e9d2",
   "metadata": {},
   "source": [
    "## C4.5"
   ]
  },
  {
   "cell_type": "markdown",
   "id": "20327e6e",
   "metadata": {},
   "source": [
    "### Árvore"
   ]
  },
  {
   "cell_type": "code",
   "execution_count": 19,
   "id": "fb78ae02",
   "metadata": {},
   "outputs": [
    {
     "name": "stdout",
     "output_type": "stream",
     "text": [
      "0 - 0 (/0 444//1 268/) | Razão de ganho: 0.1159568277286427 | Regra derivada: Sex\n",
      "  {Sex==female}  1 - 1 (/0 64//1 181/) | Razão de ganho: 0.2346347328409777 | Regra derivada: Pclass\n",
      "    {Pclass>2.0}  2 - 0 (/0 59//1 56/) | Razão de ganho: 0.14884830480180877 | Regra derivada: Fare\n",
      "      {Fare>23.25}  3 - 0 (/0 20//1 1/) | Razão de ganho: 0.14501030849729774 | Regra derivada: Age\n",
      "        {Age>5.0}  4 - 0 (/0 18/) | Razão de ganho: 1.0 | Regra derivada: (Final)\n",
      "        {Age<=5.0}  4 - 0 (/0 2//1 1/) | Razão de ganho: 0.9182958340544896 | Regra derivada: Age\n",
      "          {Age>2.0}  5 - 1 (/1 1/) | Razão de ganho: 1.0 | Regra derivada: (Final)\n",
      "          {Age<=2.0}  5 - 0 (/0 2/) | Razão de ganho: 1.0 | Regra derivada: (Final)\n",
      "      {Fare<=23.25}  3 - 1 (/0 39//1 55/) | Razão de ganho: 0.03628540704306005 | Regra derivada: (Final)\n",
      "    {Pclass<=2.0}  2 - 1 (/1 125//0 5/) | Razão de ganho: 0.022272939419030136 | Regra derivada: (Final)\n",
      "  {Sex==male}  1 - 0 (/0 380//1 87/) | Razão de ganho: 0.04263681792815832 | Regra derivada: (Final)\n"
     ]
    }
   ],
   "source": [
    "print(tree_c45.__str__())"
   ]
  },
  {
   "cell_type": "markdown",
   "id": "6ea248ff",
   "metadata": {},
   "source": [
    "### Teste"
   ]
  },
  {
   "cell_type": "code",
   "execution_count": 20,
   "id": "8d59e4b1",
   "metadata": {},
   "outputs": [],
   "source": [
    "confusionMatrix_C45 = tree_c45.test_tree(test_data= dados_c45_atributos_teste, test_results= dados_c45_resultados_teste)"
   ]
  },
  {
   "cell_type": "code",
   "execution_count": 21,
   "id": "c1efb9b6",
   "metadata": {},
   "outputs": [
    {
     "data": {
      "text/plain": [
       "179"
      ]
     },
     "execution_count": 21,
     "metadata": {},
     "output_type": "execute_result"
    }
   ],
   "source": [
    "len(dados_c45_atributos_teste)"
   ]
  },
  {
   "cell_type": "code",
   "execution_count": 22,
   "id": "3fb1b727",
   "metadata": {},
   "outputs": [
    {
     "data": {
      "text/html": [
       "<div>\n",
       "<style scoped>\n",
       "    .dataframe tbody tr th:only-of-type {\n",
       "        vertical-align: middle;\n",
       "    }\n",
       "\n",
       "    .dataframe tbody tr th {\n",
       "        vertical-align: top;\n",
       "    }\n",
       "\n",
       "    .dataframe thead th {\n",
       "        text-align: right;\n",
       "    }\n",
       "</style>\n",
       "<table border=\"1\" class=\"dataframe\">\n",
       "  <thead>\n",
       "    <tr style=\"text-align: right;\">\n",
       "      <th></th>\n",
       "      <th>0</th>\n",
       "      <th>1</th>\n",
       "    </tr>\n",
       "  </thead>\n",
       "  <tbody>\n",
       "    <tr>\n",
       "      <th>0</th>\n",
       "      <td>92</td>\n",
       "      <td>13</td>\n",
       "    </tr>\n",
       "    <tr>\n",
       "      <th>1</th>\n",
       "      <td>24</td>\n",
       "      <td>50</td>\n",
       "    </tr>\n",
       "  </tbody>\n",
       "</table>\n",
       "</div>"
      ],
      "text/plain": [
       "    0   1\n",
       "0  92  13\n",
       "1  24  50"
      ]
     },
     "execution_count": 22,
     "metadata": {},
     "output_type": "execute_result"
    }
   ],
   "source": [
    "confusionMatrix_C45"
   ]
  },
  {
   "cell_type": "markdown",
   "id": "e1033d26",
   "metadata": {},
   "source": [
    "## CART"
   ]
  },
  {
   "cell_type": "markdown",
   "id": "e3fa3b7c",
   "metadata": {},
   "source": [
    "### Árvore"
   ]
  },
  {
   "cell_type": "code",
   "execution_count": 23,
   "id": "abeae178",
   "metadata": {},
   "outputs": [
    {
     "name": "stdout",
     "output_type": "stream",
     "text": [
      "{}  0 - 0 (/0 444//1 268/) | Razão de ganho: 0.33166832548769093 | Regra derivada: Sex\n",
      "  {Sex==female}  1 - 1 (/0 64//1 181/) | Razão de ganho: 0.2737806293085796 | Regra derivada: Pclass\n",
      "    {Pclass>2.0}  2 - 0 (/0 59//1 56/) | Razão de ganho: 0.41341791110523773 | Regra derivada: Fare\n",
      "      {Fare>23.25}  3 - 0 (/0 20//1 1/) | Razão de ganho: 0.06349206349206349 | Regra derivada: (Final)\n",
      "      {Fare<=23.25}  3 - 1 (/0 39//1 55/) | Razão de ganho: 0.4604870306997967 | Regra derivada: Embarked\n",
      "        {Embarked==S}  4 - 0 (/0 28//1 27/) | Razão de ganho: 0.4591800356506238 | Regra derivada: Fare\n",
      "          {Fare>7.65}  5 - 0 (/0 28//1 23/) | Razão de ganho: 0.44305120167189127 | Regra derivada: Fare\n",
      "            {Fare>10.5167}  6 - 1 (/1 14//0 8/) | Razão de ganho: 0.38474025974025977 | Regra derivada: Fare\n",
      "              {Fare>17.4}  7 - 0 (/1 3//0 5/) | Razão de ganho: 0.3 | Regra derivada: SibSp\n",
      "                {SibSp>1.0}  8 - 0 (/0 3/) | Razão de ganho: 1.0 | Regra derivada: (Final)\n",
      "                {SibSp<=1.0}  8 - 1 (/1 3//0 2/) | Razão de ganho: 0.30000000000000004 | Regra derivada: Parch\n",
      "                  {Parch>0.0}  9 - 1 (/1 3//0 1/) | Razão de ganho: 0.0 | Regra derivada: (Final)\n",
      "                  {Parch<=0.0}  9 - 0 (/0 1/) | Razão de ganho: 1.0 | Regra derivada: (Final)\n",
      "              {Fare<=17.4}  7 - 1 (/1 11//0 3/) | Razão de ganho: 0.24175824175824176 | Regra derivada: (Final)\n",
      "            {Fare<=10.5167}  6 - 0 (/0 20//1 9/) | Razão de ganho: 0.39408866995073893 | Regra derivada: Age\n",
      "              {Age>45.0}  7 - 1 (/1 1/) | Razão de ganho: 1.0 | Regra derivada: (Final)\n",
      "              {Age<=45.0}  7 - 0 (/0 20//1 8/) | Razão de ganho: 0.37037037037037046 | Regra derivada: SibSp\n",
      "                {SibSp>1.0}  8 - 1 (/1 1/) | Razão de ganho: 1.0 | Regra derivada: (Final)\n",
      "                {SibSp<=1.0}  8 - 0 (/0 20//1 7/) | Razão de ganho: 0.35353535353535354 | Regra derivada: SibSp\n",
      "                  {SibSp>0.0}  9 - 0 (/0 5/) | Razão de ganho: 1.0 | Regra derivada: (Final)\n",
      "                  {SibSp<=0.0}  9 - 0 (/0 15//1 7/) | Razão de ganho: 0.3961038961038961 | Regra derivada: Age\n",
      "                    {Age>25.0}  10 - 0 (/0 4//1 4/) | Razão de ganho: 0.1999999999999999 | Regra derivada: (Final)\n",
      "                    {Age<=25.0}  10 - 0 (/1 3//0 11/) | Razão de ganho: 0.2857142857142857 | Regra derivada: (Final)\n",
      "          {Fare<=7.65}  5 - 1 (/1 4/) | Razão de ganho: 1.0 | Regra derivada: (Final)\n",
      "        {Embarked!=S}  4 - 1 (/1 28//0 11/) | Razão de ganho: 0.3501326259946949 | Regra derivada: Fare\n",
      "          {Fare>15.2458}  5 - 1 (/1 10/) | Razão de ganho: 1.0 | Regra derivada: (Final)\n",
      "          {Fare<=15.2458}  5 - 1 (/1 18//0 11/) | Razão de ganho: 0.3633183408295853 | Regra derivada: Fare\n",
      "            {Fare>13.4167}  6 - 0 (/0 5//1 1/) | Razão de ganho: 0.0 | Regra derivada: (Final)\n",
      "            {Fare<=13.4167}  6 - 1 (/1 17//0 6/) | Razão de ganho: 0.3359683794466404 | Regra derivada: Parch\n",
      "              {Parch>1.0}  7 - 0 (/0 1/) | Razão de ganho: 1.0 | Regra derivada: (Final)\n",
      "              {Parch<=1.0}  7 - 1 (/1 17//0 5/) | Razão de ganho: 0.29437229437229445 | Regra derivada: Fare\n",
      "                {Fare>6.75}  8 - 1 (/1 17//0 4/) | Razão de ganho: 0.2857142857142857 | Regra derivada: Age\n",
      "                  {Age>16.0}  9 - 1 (/1 12//0 4/) | Razão de ganho: 0.2999999999999998 | Regra derivada: Age\n",
      "                    {Age>21.0}  10 - 1 (/1 12//0 3/) | Razão de ganho: 0.22857142857142865 | Regra derivada: (Final)\n",
      "                    {Age<=21.0}  10 - 0 (/0 1/) | Razão de ganho: 1.0 | Regra derivada: (Final)\n",
      "                  {Age<=16.0}  9 - 1 (/1 5/) | Razão de ganho: 1.0 | Regra derivada: (Final)\n",
      "                {Fare<=6.75}  8 - 0 (/0 1/) | Razão de ganho: 1.0 | Regra derivada: (Final)\n",
      "    {Pclass<=2.0}  2 - 1 (/1 125//0 5/) | Razão de ganho: 0.06730769230769232 | Regra derivada: (Final)\n",
      "  {Sex!=female}  1 - 0 (/0 380//1 87/) | Razão de ganho: 0.2789005955909212 | Regra derivada: Age\n",
      "    {Age>6.0}  2 - 0 (/0 373//1 72/) | Razão de ganho: 0.256749839381719 | Regra derivada: Pclass\n",
      "      {Pclass>1.0}  3 - 0 (/0 312//1 42/) | Razão de ganho: 0.20641032013366628 | Regra derivada: (Final)\n",
      "      {Pclass<=1.0}  3 - 0 (/0 61//1 30/) | Razão de ganho: 0.421780466724287 | Regra derivada: Fare\n",
      "        {Fare>263.0}  4 - 1 (/1 2/) | Razão de ganho: 1.0 | Regra derivada: (Final)\n",
      "        {Fare<=263.0}  4 - 0 (/0 61//1 28/) | Razão de ganho: 0.4143600986571662 | Regra derivada: Fare\n",
      "          {Fare>133.65}  5 - 0 (/0 7/) | Razão de ganho: 1.0 | Regra derivada: (Final)\n",
      "          {Fare<=133.65}  5 - 0 (/0 54//1 28/) | Razão de ganho: 0.4279674796747966 | Regra derivada: Fare\n",
      "            {Fare>26.0}  6 - 0 (/0 47//1 28/) | Razão de ganho: 0.446392694063927 | Regra derivada: Parch\n",
      "              {Parch>1.0}  7 - 1 (/1 2/) | Razão de ganho: 1.0 | Regra derivada: (Final)\n",
      "              {Parch<=1.0}  7 - 0 (/0 47//1 26/) | Razão de ganho: 0.43526914914142395 | Regra derivada: Fare\n",
      "                {Fare>26.2875}  8 - 0 (/0 47//1 24/) | Razão de ganho: 0.43501006036217305 | Regra derivada: Age\n",
      "                  {Age>70.0}  9 - 1 (/1 1/) | Razão de ganho: 1.0 | Regra derivada: (Final)\n",
      "                  {Age<=70.0}  9 - 0 (/0 47//1 23/) | Razão de ganho: 0.42461538461538456 | Regra derivada: Age\n",
      "                    {Age>60.0}  10 - 0 (/0 5/) | Razão de ganho: 1.0 | Regra derivada: (Final)\n",
      "                    {Age<=60.0}  10 - 0 (/0 42//1 23/) | Razão de ganho: 0.44423076923076926 | Regra derivada: (Final)\n",
      "                {Fare<=26.2875}  8 - 1 (/1 2/) | Razão de ganho: 1.0 | Regra derivada: (Final)\n",
      "            {Fare<=26.0}  6 - 0 (/0 7/) | Razão de ganho: 1.0 | Regra derivada: (Final)\n",
      "    {Age<=6.0}  2 - 1 (/0 7//1 15/) | Razão de ganho: 0.07954545454545454 | Regra derivada: (Final)\n"
     ]
    }
   ],
   "source": [
    "print(tree_cart.__str__())"
   ]
  },
  {
   "cell_type": "markdown",
   "id": "859fb87e",
   "metadata": {},
   "source": [
    "### Teste"
   ]
  },
  {
   "cell_type": "code",
   "execution_count": 24,
   "id": "322e073f",
   "metadata": {},
   "outputs": [],
   "source": [
    "confusionMatrix_CART = tree_cart.test_tree(test_data= dados_cart_atributos_teste, test_results= dados_cart_resultados_teste)"
   ]
  },
  {
   "cell_type": "code",
   "execution_count": 25,
   "id": "1f4ed45d",
   "metadata": {},
   "outputs": [
    {
     "data": {
      "text/plain": [
       "179"
      ]
     },
     "execution_count": 25,
     "metadata": {},
     "output_type": "execute_result"
    }
   ],
   "source": [
    "len(dados_cart_atributos_teste)"
   ]
  },
  {
   "cell_type": "code",
   "execution_count": 26,
   "id": "9427d065",
   "metadata": {},
   "outputs": [
    {
     "data": {
      "text/html": [
       "<div>\n",
       "<style scoped>\n",
       "    .dataframe tbody tr th:only-of-type {\n",
       "        vertical-align: middle;\n",
       "    }\n",
       "\n",
       "    .dataframe tbody tr th {\n",
       "        vertical-align: top;\n",
       "    }\n",
       "\n",
       "    .dataframe thead th {\n",
       "        text-align: right;\n",
       "    }\n",
       "</style>\n",
       "<table border=\"1\" class=\"dataframe\">\n",
       "  <thead>\n",
       "    <tr style=\"text-align: right;\">\n",
       "      <th></th>\n",
       "      <th>0</th>\n",
       "      <th>1</th>\n",
       "    </tr>\n",
       "  </thead>\n",
       "  <tbody>\n",
       "    <tr>\n",
       "      <th>0</th>\n",
       "      <td>93</td>\n",
       "      <td>12</td>\n",
       "    </tr>\n",
       "    <tr>\n",
       "      <th>1</th>\n",
       "      <td>25</td>\n",
       "      <td>49</td>\n",
       "    </tr>\n",
       "  </tbody>\n",
       "</table>\n",
       "</div>"
      ],
      "text/plain": [
       "    0   1\n",
       "0  93  12\n",
       "1  25  49"
      ]
     },
     "execution_count": 26,
     "metadata": {},
     "output_type": "execute_result"
    }
   ],
   "source": [
    "confusionMatrix_CART"
   ]
  }
 ],
 "metadata": {
  "kernelspec": {
   "display_name": "Python 3",
   "language": "python",
   "name": "python3"
  },
  "language_info": {
   "codemirror_mode": {
    "name": "ipython",
    "version": 3
   },
   "file_extension": ".py",
   "mimetype": "text/x-python",
   "name": "python",
   "nbconvert_exporter": "python",
   "pygments_lexer": "ipython3",
   "version": "3.13.2"
  }
 },
 "nbformat": 4,
 "nbformat_minor": 5
}

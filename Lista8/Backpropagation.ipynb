{
 "cells": [
  {
   "cell_type": "markdown",
   "id": "54119a3b",
   "metadata": {},
   "source": [
    "# Import"
   ]
  },
  {
   "cell_type": "code",
   "execution_count": null,
   "id": "35dd5d87",
   "metadata": {},
   "outputs": [],
   "source": [
    "import neuron_network"
   ]
  },
  {
   "cell_type": "markdown",
   "id": "4eb33b4b",
   "metadata": {},
   "source": [
    "# XOR"
   ]
  },
  {
   "cell_type": "markdown",
   "id": "5d129db5",
   "metadata": {},
   "source": [
    "## Montar rede"
   ]
  },
  {
   "cell_type": "code",
   "execution_count": null,
   "id": "f4148ba3",
   "metadata": {},
   "outputs": [],
   "source": [
    "network_XOR = neuron_network.NeuronNetwork(2, 2, 1)\n",
    "entradas = [[0, 0], [0, 1], [1, 0], [1, 1]]\n",
    "resultados_esperados = [[0], [1], [1], [0]]\n",
    "generations = -1\n",
    "min_error_difference = 0.05\n",
    "min_error = 0.15"
   ]
  },
  {
   "cell_type": "markdown",
   "id": "63381d87",
   "metadata": {},
   "source": [
    "## Executar algoritmo"
   ]
  },
  {
   "cell_type": "code",
   "execution_count": null,
   "id": "248e5723",
   "metadata": {},
   "outputs": [],
   "source": [
    "network_XOR.run_network(generations, entradas, resultados_esperados, min_error_difference, min_error)"
   ]
  },
  {
   "cell_type": "markdown",
   "id": "5d1269bc",
   "metadata": {},
   "source": [
    "# Display 7 segmentos"
   ]
  },
  {
   "cell_type": "markdown",
   "id": "c3f852fa",
   "metadata": {},
   "source": [
    "## Montar rede"
   ]
  },
  {
   "cell_type": "code",
   "execution_count": null,
   "id": "9b7a19fc",
   "metadata": {},
   "outputs": [],
   "source": [
    "network_Display = neuron_network.NeuronNetwork(7, 5, 10)"
   ]
  },
  {
   "cell_type": "code",
   "execution_count": null,
   "id": "68f8dc39",
   "metadata": {},
   "outputs": [],
   "source": [
    "entradas = []\n",
    "resultados_esperados = []\n",
    "\n",
    "# 0\n",
    "entradas.append([1, 1, 1, 1, 1, 1, 0])\n",
    "resultados_esperados.append([1, 0, 0, 0, 0, 0, 0, 0, 0, 0])\n",
    "# 1\n",
    "entradas.append([0, 1, 1, 0, 0, 0, 0])\n",
    "resultados_esperados.append([0, 1, 0, 0, 0, 0, 0, 0, 0, 0])\n",
    "# 2\n",
    "entradas.append([1, 1, 0, 1, 1, 0, 1])\n",
    "resultados_esperados.append([0, 0, 1, 0, 0, 0, 0, 0, 0, 0])\n",
    "# 3\n",
    "entradas.append([1, 1, 1, 1, 0, 0, 1])\n",
    "resultados_esperados.append([0, 0, 0, 1, 0, 0, 0, 0, 0, 0])\n",
    "# 4\n",
    "entradas.append([0, 1, 1, 0, 0, 1, 1])\n",
    "resultados_esperados.append([0, 0, 0, 0, 1, 0, 0, 0, 0, 0])\n",
    "# 5\n",
    "entradas.append([1, 0, 1, 1, 0, 1, 1])\n",
    "resultados_esperados.append([0, 0, 0, 0, 0, 1, 0, 0, 0, 0])\n",
    "# 6\n",
    "entradas.append([1, 0, 1, 1, 1, 1, 1])\n",
    "resultados_esperados.append([0, 0, 0, 0, 0, 0, 1, 0, 0, 0])\n",
    "# 7\n",
    "entradas.append([1, 1, 1, 0, 0, 0, 0])\n",
    "resultados_esperados.append([0, 0, 0, 0, 0, 0, 0, 1, 0, 0])\n",
    "# 8\n",
    "entradas.append([1, 1, 1, 1, 1, 1, 1])\n",
    "resultados_esperados.append([0, 0, 0, 0, 0, 0, 0, 0, 1, 0])\n",
    "# 9\n",
    "entradas.append([1, 1, 1, 1, 0, 1, 1])\n",
    "resultados_esperados.append([0, 0, 0, 0, 0, 0, 0, 0, 0, 1])\n",
    "\n",
    "\n",
    "generations = -1\n",
    "min_error_difference = 0.05\n",
    "min_error = 0.10"
   ]
  },
  {
   "cell_type": "markdown",
   "id": "cfb9395b",
   "metadata": {},
   "source": [
    "## Executar algoritmo"
   ]
  },
  {
   "cell_type": "code",
   "execution_count": null,
   "id": "b6d9569c",
   "metadata": {},
   "outputs": [],
   "source": [
    "network_Display.run_network(generations, entradas, resultados_esperados, min_error_difference, min_error)"
   ]
  }
 ],
 "metadata": {
  "kernelspec": {
   "display_name": "Python 3",
   "language": "python",
   "name": "python3"
  },
  "language_info": {
   "codemirror_mode": {
    "name": "ipython",
    "version": 3
   },
   "file_extension": ".py",
   "mimetype": "text/x-python",
   "name": "python",
   "nbconvert_exporter": "python",
   "pygments_lexer": "ipython3",
   "version": "3.13.2"
  }
 },
 "nbformat": 4,
 "nbformat_minor": 5
}

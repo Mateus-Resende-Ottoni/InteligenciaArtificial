{
 "cells": [
  {
   "cell_type": "markdown",
   "id": "54119a3b",
   "metadata": {},
   "source": [
    "# Import"
   ]
  },
  {
   "cell_type": "code",
   "execution_count": 1,
   "id": "35dd5d87",
   "metadata": {},
   "outputs": [],
   "source": [
    "import neuron_network"
   ]
  },
  {
   "cell_type": "markdown",
   "id": "4eb33b4b",
   "metadata": {},
   "source": [
    "# XOR"
   ]
  },
  {
   "cell_type": "markdown",
   "id": "5d129db5",
   "metadata": {},
   "source": [
    "## Montar rede"
   ]
  },
  {
   "cell_type": "code",
   "execution_count": 2,
   "id": "f4148ba3",
   "metadata": {},
   "outputs": [],
   "source": [
    "network_XOR = neuron_network.NeuronNetwork(2, 2, 1)\n",
    "entradas = [[0, 0], [0, 1], [1, 0], [1, 1]]\n",
    "resultados_esperados = [[0], [1], [1], [0]]\n",
    "generations = -1\n",
    "min_error_difference = 0.05"
   ]
  },
  {
   "cell_type": "markdown",
   "id": "63381d87",
   "metadata": {},
   "source": [
    "## Executar algoritmo"
   ]
  },
  {
   "cell_type": "code",
   "execution_count": 3,
   "id": "248e5723",
   "metadata": {},
   "outputs": [
    {
     "name": "stdout",
     "output_type": "stream",
     "text": [
      "Start running network\n",
      "Entrada atual: [0, 0]\n",
      "Start running generation\n",
      "Esperado: [0]\n",
      "Obtido: [0.5510702395380238]\n",
      "0\n",
      "Start adjusting weight\n",
      "[0.1, 0.1, 0.1]\n",
      "N resultados intermediario = 2\n",
      "Finish adjusting weight\n",
      "Finish running generation\n",
      "Geração 1. Erro médio = 0.026291520020880255\n",
      "Entrada atual: [0, 1]\n",
      "Start running generation\n",
      "Esperado: [1]\n",
      "Obtido: [0.5669141162509536]\n",
      "0\n",
      "Start adjusting weight\n",
      "[0.11972020204753824, 0.11972020204753824, 0.13756377875138018]\n",
      "N resultados intermediario = 2\n",
      "Finish adjusting weight\n",
      "Finish running generation\n",
      "Geração 2. Erro médio = 0.016110165388220885\n",
      "Entrada atual: [1, 0]\n",
      "Start running generation\n",
      "Esperado: [1]\n",
      "Obtido: [0.5759741589417425]\n",
      "0\n",
      "Start adjusting weight\n",
      "[0.13238575170373218, 0.13238575170373218, 0.16058929416431994]\n",
      "N resultados intermediario = 2\n",
      "Finish adjusting weight\n",
      "Finish running generation\n",
      "Geração 3. Erro médio = 0.015361705835573737\n",
      "Entrada atual: [1, 1]\n",
      "Start running generation\n",
      "Esperado: [0]\n",
      "Obtido: [0.5863128065502456]\n",
      "0\n",
      "Start adjusting weight\n",
      "[0.1444660037191308, 0.1444660037191308, 0.18254513007342987]\n",
      "N resultados intermediario = 2\n",
      "Finish adjusting weight\n",
      "Finish running generation\n",
      "Geração 4. Erro médio = 0.02915882017787071\n",
      "Entrada atual: [0, 0]\n",
      "Start running generation\n",
      "Esperado: [0]\n",
      "Obtido: [0.5990132157752251]\n",
      "0\n",
      "Start adjusting weight\n",
      "[0.1684466499578997, 0.1684466499578997, 0.22423496946936886]\n",
      "N resultados intermediario = 2\n",
      "Finish adjusting weight\n",
      "Finish running generation\n",
      "Geração 5. Erro médio = 0.030183925685481894\n",
      "Entrada atual: [0, 1]\n",
      "Start running generation\n",
      "Esperado: [1]\n",
      "Obtido: [0.6172808089510097]\n",
      "0\n",
      "Start adjusting weight\n",
      "[0.19110274456223783, 0.19110274456223783, 0.267328222171472]\n",
      "N resultados intermediario = 2\n",
      "Finish adjusting weight\n",
      "Finish running generation\n",
      "Geração 6. Erro médio = 0.012114205800460695\n",
      "Finish running network\n"
     ]
    }
   ],
   "source": [
    "network_XOR.run_network(generations, entradas, resultados_esperados, min_error_difference)"
   ]
  },
  {
   "cell_type": "markdown",
   "id": "5d1269bc",
   "metadata": {},
   "source": [
    "# Display 7 segmentos"
   ]
  },
  {
   "cell_type": "markdown",
   "id": "c3f852fa",
   "metadata": {},
   "source": [
    "## Montar rede"
   ]
  },
  {
   "cell_type": "code",
   "execution_count": 4,
   "id": "9b7a19fc",
   "metadata": {},
   "outputs": [],
   "source": [
    "network_Display = neuron_network.NeuronNetwork(7, 5, 4)"
   ]
  },
  {
   "cell_type": "code",
   "execution_count": 5,
   "id": "68f8dc39",
   "metadata": {},
   "outputs": [],
   "source": [
    "entradas = []\n",
    "resultados_esperados = []\n",
    "\n",
    "# 0\n",
    "entradas.append([1, 1, 1, 1, 1, 1, 0])\n",
    "resultados_esperados.append([1, 0, 0, 0, 0, 0, 0, 0, 0, 0])\n",
    "# 1\n",
    "entradas.append([0, 1, 1, 0, 0, 0, 0])\n",
    "resultados_esperados.append([0, 1, 0, 0, 0, 0, 0, 0, 0, 0])\n",
    "# 2\n",
    "entradas.append([1, 1, 0, 1, 1, 0, 1])\n",
    "resultados_esperados.append([0, 0, 1, 0, 0, 0, 0, 0, 0, 0])\n",
    "# 3\n",
    "entradas.append([1, 1, 1, 1, 0, 0, 1])\n",
    "resultados_esperados.append([0, 0, 0, 1, 0, 0, 0, 0, 0, 0])\n",
    "# 4\n",
    "entradas.append([0, 1, 1, 0, 0, 1, 1])\n",
    "resultados_esperados.append([0, 0, 0, 0, 1, 0, 0, 0, 0, 0])\n",
    "# 5\n",
    "entradas.append([1, 0, 1, 1, 0, 1, 1])\n",
    "resultados_esperados.append([0, 0, 0, 0, 0, 1, 0, 0, 0, 0])\n",
    "# 6\n",
    "entradas.append([1, 0, 1, 1, 1, 1, 1])\n",
    "resultados_esperados.append([0, 0, 0, 0, 0, 0, 1, 0, 0, 0])\n",
    "# 7\n",
    "entradas.append([1, 1, 1, 0, 0, 0, 0])\n",
    "resultados_esperados.append([0, 0, 0, 0, 0, 0, 0, 1, 0, 0])\n",
    "# 8\n",
    "entradas.append([1, 1, 1, 1, 1, 1, 1])\n",
    "resultados_esperados.append([0, 0, 0, 0, 0, 0, 0, 0, 1, 0])\n",
    "# 9\n",
    "entradas.append([1, 1, 1, 1, 0, 1, 1])\n",
    "resultados_esperados.append([0, 0, 0, 0, 0, 0, 0, 0, 0, 1])\n",
    "\n",
    "\n",
    "generations = -1\n",
    "min_error_difference = 0.05"
   ]
  },
  {
   "cell_type": "markdown",
   "id": "cfb9395b",
   "metadata": {},
   "source": [
    "## Executar algoritmo"
   ]
  },
  {
   "cell_type": "code",
   "execution_count": 6,
   "id": "b6d9569c",
   "metadata": {},
   "outputs": [
    {
     "name": "stdout",
     "output_type": "stream",
     "text": [
      "Start running network\n",
      "Entrada atual: [1, 1, 1, 1, 1, 1, 0]\n",
      "Start running generation\n",
      "Esperado: [1, 0, 0, 0, 0, 0, 0, 0, 0, 0]\n",
      "Obtido: [0.6068508257283864, 0.6068508257283864, 0.6068508257283864, 0.6068508257283864]\n",
      "0\n",
      "1\n",
      "2\n",
      "3\n",
      "4\n"
     ]
    },
    {
     "ename": "IndexError",
     "evalue": "list index out of range",
     "output_type": "error",
     "traceback": [
      "\u001b[31m---------------------------------------------------------------------------\u001b[39m",
      "\u001b[31mIndexError\u001b[39m                                Traceback (most recent call last)",
      "\u001b[36mCell\u001b[39m\u001b[36m \u001b[39m\u001b[32mIn[6]\u001b[39m\u001b[32m, line 1\u001b[39m\n\u001b[32m----> \u001b[39m\u001b[32m1\u001b[39m \u001b[43mnetwork_Display\u001b[49m\u001b[43m.\u001b[49m\u001b[43mrun_network\u001b[49m\u001b[43m(\u001b[49m\u001b[43mgenerations\u001b[49m\u001b[43m,\u001b[49m\u001b[43m \u001b[49m\u001b[43mentradas\u001b[49m\u001b[43m,\u001b[49m\u001b[43m \u001b[49m\u001b[43mresultados_esperados\u001b[49m\u001b[43m,\u001b[49m\u001b[43m \u001b[49m\u001b[43mmin_error_difference\u001b[49m\u001b[43m)\u001b[49m\n",
      "\u001b[36mFile \u001b[39m\u001b[32mc:\\GitHub\\InteligenciaArtificial\\Lista8\\neuron_network.py:249\u001b[39m, in \u001b[36mNeuronNetwork.run_network\u001b[39m\u001b[34m(self, num_generations, entradas, resultados_esperados, min_error_difference)\u001b[39m\n\u001b[32m    247\u001b[39m     \u001b[38;5;28mprint\u001b[39m(\u001b[33mf\u001b[39m\u001b[33m\"\u001b[39m\u001b[33mGeração \u001b[39m\u001b[38;5;132;01m{\u001b[39;00mgeneration\u001b[38;5;132;01m}\u001b[39;00m\u001b[33m. Erro médio = \u001b[39m\u001b[38;5;132;01m{\u001b[39;00merro1\u001b[38;5;132;01m}\u001b[39;00m\u001b[33m\"\u001b[39m)\n\u001b[32m    248\u001b[39m \u001b[38;5;28;01melif\u001b[39;00m (generation % \u001b[32m5\u001b[39m == \u001b[32m1\u001b[39m):\n\u001b[32m--> \u001b[39m\u001b[32m249\u001b[39m     erro2 = \u001b[38;5;28;43mself\u001b[39;49m\u001b[43m.\u001b[49m\u001b[43mrun_generation\u001b[49m\u001b[43m(\u001b[49m\u001b[43mentrada_atual\u001b[49m\u001b[43m,\u001b[49m\u001b[43m \u001b[49m\u001b[43mresultados_esperados_atual\u001b[49m\u001b[43m,\u001b[49m\u001b[43m \u001b[49m\u001b[32;43m0.5\u001b[39;49m\u001b[43m)\u001b[49m\n\u001b[32m    250\u001b[39m     \u001b[38;5;28mprint\u001b[39m(\u001b[33mf\u001b[39m\u001b[33m\"\u001b[39m\u001b[33mGeração \u001b[39m\u001b[38;5;132;01m{\u001b[39;00mgeneration\u001b[38;5;132;01m}\u001b[39;00m\u001b[33m. Erro médio = \u001b[39m\u001b[38;5;132;01m{\u001b[39;00merro2\u001b[38;5;132;01m}\u001b[39;00m\u001b[33m\"\u001b[39m)\n\u001b[32m    251\u001b[39m \u001b[38;5;28;01melif\u001b[39;00m (generation % \u001b[32m5\u001b[39m == \u001b[32m2\u001b[39m):\n",
      "\u001b[36mFile \u001b[39m\u001b[32mc:\\GitHub\\InteligenciaArtificial\\Lista8\\neuron_network.py:174\u001b[39m, in \u001b[36mNeuronNetwork.run_generation\u001b[39m\u001b[34m(self, entradas, resultados_esperados, learning_rate)\u001b[39m\n\u001b[32m    171\u001b[39m \u001b[38;5;28;01mfor\u001b[39;00m n \u001b[38;5;129;01min\u001b[39;00m \u001b[38;5;28mrange\u001b[39m(\u001b[38;5;28mlen\u001b[39m(resultados_esperados)):\n\u001b[32m    172\u001b[39m     \u001b[38;5;28mprint\u001b[39m(n)\n\u001b[32m--> \u001b[39m\u001b[32m174\u001b[39m     diferenca = resultados_esperados[n] - \u001b[43mresultados_obtidos\u001b[49m\u001b[43m[\u001b[49m\u001b[43mn\u001b[49m\u001b[43m]\u001b[49m\n\u001b[32m    175\u001b[39m     diferenca = \u001b[38;5;28mpow\u001b[39m(diferenca, \u001b[32m2\u001b[39m)\n\u001b[32m    176\u001b[39m     resultados_diferencas.append(diferenca)\n",
      "\u001b[31mIndexError\u001b[39m: list index out of range"
     ]
    }
   ],
   "source": [
    "network_Display.run_network(generations, entradas, resultados_esperados, min_error_difference)"
   ]
  }
 ],
 "metadata": {
  "kernelspec": {
   "display_name": "Python 3",
   "language": "python",
   "name": "python3"
  },
  "language_info": {
   "codemirror_mode": {
    "name": "ipython",
    "version": 3
   },
   "file_extension": ".py",
   "mimetype": "text/x-python",
   "name": "python",
   "nbconvert_exporter": "python",
   "pygments_lexer": "ipython3",
   "version": "3.13.2"
  }
 },
 "nbformat": 4,
 "nbformat_minor": 5
}
